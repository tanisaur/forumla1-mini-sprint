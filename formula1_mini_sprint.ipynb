{
  "nbformat": 4,
  "nbformat_minor": 0,
  "metadata": {
    "colab": {
      "provenance": [],
      "toc_visible": true,
      "include_colab_link": true
    },
    "kernelspec": {
      "name": "python3",
      "display_name": "Python 3"
    },
    "language_info": {
      "name": "python"
    }
  },
  "cells": [
    {
      "cell_type": "markdown",
      "metadata": {
        "id": "view-in-github",
        "colab_type": "text"
      },
      "source": [
        "<a href=\"https://colab.research.google.com/github/tanisaur/forumla1-mini-sprint/blob/main/formula1_mini_sprint.ipynb\" target=\"_parent\"><img src=\"https://colab.research.google.com/assets/colab-badge.svg\" alt=\"Open In Colab\"/></a>"
      ]
    },
    {
      "cell_type": "markdown",
      "source": [
        "Create a shared drive to mount data"
      ],
      "metadata": {
        "id": "hxGDAIuFszJ8"
      }
    },
    {
      "cell_type": "code",
      "execution_count": 1,
      "metadata": {
        "id": "ixaXvQAwGHZv",
        "colab": {
          "base_uri": "https://localhost:8080/"
        },
        "outputId": "19cfa783-eb69-4d7a-da4d-34254d930d12"
      },
      "outputs": [
        {
          "output_type": "stream",
          "name": "stdout",
          "text": [
            "Cloning into 'forumla1-mini-sprint'...\n",
            "remote: Enumerating objects: 112, done.\u001b[K\n",
            "remote: Counting objects: 100% (26/26), done.\u001b[K\n",
            "remote: Compressing objects: 100% (23/23), done.\u001b[K\n",
            "remote: Total 112 (delta 18), reused 3 (delta 3), pack-reused 86\u001b[K\n",
            "Receiving objects: 100% (112/112), 6.33 MiB | 13.88 MiB/s, done.\n",
            "Resolving deltas: 100% (48/48), done.\n"
          ]
        }
      ],
      "source": [
        "!git clone https://github.com/tanisaur/forumla1-mini-sprint.git\n"
      ]
    },
    {
      "cell_type": "markdown",
      "source": [
        "#**Team 19:**\n",
        "\n",
        "\n",
        "##*Scenario:*\n",
        "We are a data consulting firm that has been hired by the worst performing constructor to help them hire a new team of drivers and improve their performance standings\n",
        "\n",
        "##*Hypothesis:*\n",
        "By analyzing the historical performance data of Formula 1 teams, we can identify key factors that contribute to good performance and recommend specific strategies for the worst-performing team to improve their race results.\n",
        "\n",
        "Factors such as pit stop, qaulify times, grid position\n",
        "\n",
        "##*Initial Data Exploration:*\n",
        "\n",
        "- Heatmap to show correlation\n",
        "\n",
        "- Aggregating pit stop times\n",
        "\n",
        "- Ranking of Teams with quickest pit stops\n",
        "\n",
        "- Ranking of Teams lowest grid position\n",
        "\n",
        "\n",
        "\n",
        "\n"
      ],
      "metadata": {
        "id": "asu-ybJPnuS-"
      }
    },
    {
      "cell_type": "markdown",
      "source": [
        "# **Import libraries**"
      ],
      "metadata": {
        "id": "SIliSQ90QtO9"
      }
    },
    {
      "cell_type": "code",
      "source": [
        "pip install fastf1"
      ],
      "metadata": {
        "id": "9sPF512zRHgu",
        "outputId": "b8a92f07-8d6a-489c-e612-4c7b8f7d137b",
        "colab": {
          "base_uri": "https://localhost:8080/"
        }
      },
      "execution_count": null,
      "outputs": [
        {
          "output_type": "stream",
          "name": "stdout",
          "text": [
            "Requirement already satisfied: fastf1 in /usr/local/lib/python3.10/dist-packages (3.3.6)\n",
            "Requirement already satisfied: matplotlib<4.0.0,>=3.5.1 in /usr/local/lib/python3.10/dist-packages (from fastf1) (3.7.1)\n",
            "Requirement already satisfied: numpy<2.0.0,>=1.21.5 in /usr/local/lib/python3.10/dist-packages (from fastf1) (1.25.2)\n",
            "Requirement already satisfied: pandas<3.0.0,>=1.4.1 in /usr/local/lib/python3.10/dist-packages (from fastf1) (2.0.3)\n",
            "Requirement already satisfied: python-dateutil in /usr/local/lib/python3.10/dist-packages (from fastf1) (2.8.2)\n",
            "Requirement already satisfied: requests-cache>=1.0.0 in /usr/local/lib/python3.10/dist-packages (from fastf1) (1.2.0)\n",
            "Requirement already satisfied: requests>=2.28.1 in /usr/local/lib/python3.10/dist-packages (from fastf1) (2.31.0)\n",
            "Requirement already satisfied: scipy<2.0.0,>=1.7.3 in /usr/local/lib/python3.10/dist-packages (from fastf1) (1.11.4)\n",
            "Requirement already satisfied: thefuzz in /usr/local/lib/python3.10/dist-packages (from fastf1) (0.22.1)\n",
            "Requirement already satisfied: timple>=0.1.6 in /usr/local/lib/python3.10/dist-packages (from fastf1) (0.1.8)\n",
            "Requirement already satisfied: websockets>=10.3 in /usr/local/lib/python3.10/dist-packages (from fastf1) (12.0)\n",
            "Requirement already satisfied: contourpy>=1.0.1 in /usr/local/lib/python3.10/dist-packages (from matplotlib<4.0.0,>=3.5.1->fastf1) (1.2.1)\n",
            "Requirement already satisfied: cycler>=0.10 in /usr/local/lib/python3.10/dist-packages (from matplotlib<4.0.0,>=3.5.1->fastf1) (0.12.1)\n",
            "Requirement already satisfied: fonttools>=4.22.0 in /usr/local/lib/python3.10/dist-packages (from matplotlib<4.0.0,>=3.5.1->fastf1) (4.51.0)\n",
            "Requirement already satisfied: kiwisolver>=1.0.1 in /usr/local/lib/python3.10/dist-packages (from matplotlib<4.0.0,>=3.5.1->fastf1) (1.4.5)\n",
            "Requirement already satisfied: packaging>=20.0 in /usr/local/lib/python3.10/dist-packages (from matplotlib<4.0.0,>=3.5.1->fastf1) (24.0)\n",
            "Requirement already satisfied: pillow>=6.2.0 in /usr/local/lib/python3.10/dist-packages (from matplotlib<4.0.0,>=3.5.1->fastf1) (9.4.0)\n",
            "Requirement already satisfied: pyparsing>=2.3.1 in /usr/local/lib/python3.10/dist-packages (from matplotlib<4.0.0,>=3.5.1->fastf1) (3.1.2)\n",
            "Requirement already satisfied: pytz>=2020.1 in /usr/local/lib/python3.10/dist-packages (from pandas<3.0.0,>=1.4.1->fastf1) (2023.4)\n",
            "Requirement already satisfied: tzdata>=2022.1 in /usr/local/lib/python3.10/dist-packages (from pandas<3.0.0,>=1.4.1->fastf1) (2024.1)\n",
            "Requirement already satisfied: six>=1.5 in /usr/local/lib/python3.10/dist-packages (from python-dateutil->fastf1) (1.16.0)\n",
            "Requirement already satisfied: charset-normalizer<4,>=2 in /usr/local/lib/python3.10/dist-packages (from requests>=2.28.1->fastf1) (3.3.2)\n",
            "Requirement already satisfied: idna<4,>=2.5 in /usr/local/lib/python3.10/dist-packages (from requests>=2.28.1->fastf1) (3.7)\n",
            "Requirement already satisfied: urllib3<3,>=1.21.1 in /usr/local/lib/python3.10/dist-packages (from requests>=2.28.1->fastf1) (2.0.7)\n",
            "Requirement already satisfied: certifi>=2017.4.17 in /usr/local/lib/python3.10/dist-packages (from requests>=2.28.1->fastf1) (2024.2.2)\n",
            "Requirement already satisfied: attrs>=21.2 in /usr/local/lib/python3.10/dist-packages (from requests-cache>=1.0.0->fastf1) (23.2.0)\n",
            "Requirement already satisfied: cattrs>=22.2 in /usr/local/lib/python3.10/dist-packages (from requests-cache>=1.0.0->fastf1) (23.2.3)\n",
            "Requirement already satisfied: platformdirs>=2.5 in /usr/local/lib/python3.10/dist-packages (from requests-cache>=1.0.0->fastf1) (4.2.1)\n",
            "Requirement already satisfied: url-normalize>=1.4 in /usr/local/lib/python3.10/dist-packages (from requests-cache>=1.0.0->fastf1) (1.4.3)\n",
            "Requirement already satisfied: rapidfuzz<4.0.0,>=3.0.0 in /usr/local/lib/python3.10/dist-packages (from thefuzz->fastf1) (3.9.1)\n",
            "Requirement already satisfied: exceptiongroup>=1.1.1 in /usr/local/lib/python3.10/dist-packages (from cattrs>=22.2->requests-cache>=1.0.0->fastf1) (1.2.1)\n",
            "Requirement already satisfied: typing-extensions!=4.6.3,>=4.1.0 in /usr/local/lib/python3.10/dist-packages (from cattrs>=22.2->requests-cache>=1.0.0->fastf1) (4.11.0)\n"
          ]
        }
      ]
    },
    {
      "cell_type": "code",
      "source": [
        "import pandas as pd\n",
        "import numpy as np\n",
        "import matplotlib.pyplot as plt\n",
        "import seaborn as sns\n",
        "import fastf1 as ff1\n",
        "%matplotlib inline"
      ],
      "metadata": {
        "id": "4Aw_-RNPQqut"
      },
      "execution_count": null,
      "outputs": []
    },
    {
      "cell_type": "markdown",
      "source": [],
      "metadata": {
        "id": "wzUNHr8kt8va"
      }
    },
    {
      "cell_type": "markdown",
      "source": [
        "# Read in Data"
      ],
      "metadata": {
        "id": "X0mazk7kt9Sf"
      }
    },
    {
      "cell_type": "markdown",
      "source": [
        "**Read in data**"
      ],
      "metadata": {
        "id": "FbYrbcv6RTyI"
      }
    },
    {
      "cell_type": "code",
      "source": [],
      "metadata": {
        "id": "hAb-X8nu2qMe"
      },
      "execution_count": null,
      "outputs": []
    },
    {
      "cell_type": "code",
      "source": [
        "driver_standings = pd.read_csv('//content/forumla1-mini-sprint/data/driver_standings.csv')\n",
        "drivers = pd.read_csv('/content/forumla1-mini-sprint/data/drivers.csv')\n",
        "results = pd.read_csv('/content/forumla1-mini-sprint/data/results.csv')\n",
        "constructors = pd.read_csv('/content/forumla1-mini-sprint/data/constructors.csv')\n",
        "constructor_results = pd.read_csv('/content/forumla1-mini-sprint/data/constructor_results.csv')\n",
        "constructor_standings = pd.read_csv('/content/forumla1-mini-sprint/data/constructor_standings.csv')\n",
        "races = pd.read_csv('/content/forumla1-mini-sprint/data/races.csv')\n",
        "pit_stops = pd.read_csv('/content/forumla1-mini-sprint/data/pit_stops.csv')\n",
        "qualifying = pd.read_csv('/content/forumla1-mini-sprint/data/qualifying.csv')\n"
      ],
      "metadata": {
        "id": "L2LhuQkjT2Em"
      },
      "execution_count": null,
      "outputs": []
    },
    {
      "cell_type": "markdown",
      "source": [],
      "metadata": {
        "id": "rhBxyY9eubGG"
      }
    },
    {
      "cell_type": "markdown",
      "source": [
        "# Explore Data"
      ],
      "metadata": {
        "id": "iEy8UoKzudFP"
      }
    },
    {
      "cell_type": "markdown",
      "source": [
        "Checking the info of each included data, # of columns, # of rows"
      ],
      "metadata": {
        "id": "sj6G3dJWvkqF"
      }
    },
    {
      "cell_type": "markdown",
      "source": [],
      "metadata": {
        "id": "jUWe9kdSuzI2"
      }
    },
    {
      "cell_type": "markdown",
      "source": [
        "# Clean Data"
      ],
      "metadata": {
        "id": "z6b-MMr6uzwm"
      }
    },
    {
      "cell_type": "markdown",
      "source": [
        "Identify null values, find duplicates, find any outliers"
      ],
      "metadata": {
        "id": "g9bsbxZ7v5DH"
      }
    },
    {
      "cell_type": "markdown",
      "source": [],
      "metadata": {
        "id": "08U5tMM0y7v7"
      }
    },
    {
      "cell_type": "markdown",
      "source": [
        "# Analyze"
      ],
      "metadata": {
        "id": "D_gXbt2my8WW"
      }
    },
    {
      "cell_type": "markdown",
      "source": [],
      "metadata": {
        "id": "QvMHZAxbqWXI"
      }
    }
  ]
}