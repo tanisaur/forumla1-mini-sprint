{
  "nbformat": 4,
  "nbformat_minor": 0,
  "metadata": {
    "colab": {
      "provenance": [],
      "include_colab_link": true
    },
    "kernelspec": {
      "name": "python3",
      "display_name": "Python 3"
    },
    "language_info": {
      "name": "python"
    }
  },
  "cells": [
    {
      "cell_type": "markdown",
      "metadata": {
        "id": "view-in-github",
        "colab_type": "text"
      },
      "source": [
        "<a href=\"https://colab.research.google.com/github/tanisaur/forumla1-mini-sprint/blob/main/formula1_mini_sprint.ipynb\" target=\"_parent\"><img src=\"https://colab.research.google.com/assets/colab-badge.svg\" alt=\"Open In Colab\"/></a>"
      ]
    },
    {
      "cell_type": "code",
      "execution_count": 2,
      "metadata": {
        "id": "ixaXvQAwGHZv",
        "colab": {
          "base_uri": "https://localhost:8080/"
        },
        "outputId": "f287369b-6ba5-4e8d-a598-7b1e112e794b"
      },
      "outputs": [
        {
          "output_type": "stream",
          "name": "stdout",
          "text": [
            "Cloning into 'forumla1-mini-sprint'...\n",
            "remote: Enumerating objects: 80, done.\u001b[K\n",
            "remote: Counting objects: 100% (80/80), done.\u001b[K\n",
            "remote: Compressing objects: 100% (77/77), done.\u001b[K\n",
            "remote: Total 80 (delta 30), reused 0 (delta 0), pack-reused 0\u001b[K\n",
            "Receiving objects: 100% (80/80), 5.92 MiB | 4.23 MiB/s, done.\n",
            "Resolving deltas: 100% (30/30), done.\n"
          ]
        }
      ],
      "source": [
        "!git clone https://github.com/tanisaur/forumla1-mini-sprint.git\n"
      ]
    },
    {
      "cell_type": "markdown",
      "source": [
        "Team 19:\n",
        "\n",
        "We are creating a Hypothesis from Formula 1 Data Sets recruiting for a specic constructor by analyzing and focusing on Data from the following files:\n",
        "\n",
        "*driver\n",
        "*results\n",
        "*lap times\n",
        "\n",
        "We are going to do a basic analysis of the top ten drivers.\n",
        "\n",
        "How many wins they have from the previous season for 2023?\n",
        "The average race lap times for the 2023 per driver?\n",
        "\n"
      ],
      "metadata": {
        "id": "asu-ybJPnuS-"
      }
    },
    {
      "cell_type": "markdown",
      "source": [
        "# **Import libraries**"
      ],
      "metadata": {
        "id": "SIliSQ90QtO9"
      }
    },
    {
      "cell_type": "code",
      "source": [
        "pip install fastf1"
      ],
      "metadata": {
        "id": "9sPF512zRHgu",
        "outputId": "0c4e3dd2-7974-4ad7-a26e-fb97a2ade4ff",
        "colab": {
          "base_uri": "https://localhost:8080/"
        }
      },
      "execution_count": 1,
      "outputs": [
        {
          "output_type": "stream",
          "name": "stdout",
          "text": [
            "Collecting fastf1\n",
            "  Downloading fastf1-3.3.6-py3-none-any.whl (130 kB)\n",
            "\u001b[2K     \u001b[90m━━━━━━━━━━━━━━━━━━━━━━━━━━━━━━━━━━━━━━━━\u001b[0m \u001b[32m130.0/130.0 kB\u001b[0m \u001b[31m918.5 kB/s\u001b[0m eta \u001b[36m0:00:00\u001b[0m\n",
            "\u001b[?25hRequirement already satisfied: matplotlib<4.0.0,>=3.5.1 in /usr/local/lib/python3.10/dist-packages (from fastf1) (3.7.1)\n",
            "Requirement already satisfied: numpy<2.0.0,>=1.21.5 in /usr/local/lib/python3.10/dist-packages (from fastf1) (1.25.2)\n",
            "Requirement already satisfied: pandas<3.0.0,>=1.4.1 in /usr/local/lib/python3.10/dist-packages (from fastf1) (2.0.3)\n",
            "Requirement already satisfied: python-dateutil in /usr/local/lib/python3.10/dist-packages (from fastf1) (2.8.2)\n",
            "Collecting requests-cache>=1.0.0 (from fastf1)\n",
            "  Downloading requests_cache-1.2.0-py3-none-any.whl (61 kB)\n",
            "\u001b[2K     \u001b[90m━━━━━━━━━━━━━━━━━━━━━━━━━━━━━━━━━━━━━━━━\u001b[0m \u001b[32m61.4/61.4 kB\u001b[0m \u001b[31m3.9 MB/s\u001b[0m eta \u001b[36m0:00:00\u001b[0m\n",
            "\u001b[?25hRequirement already satisfied: requests>=2.28.1 in /usr/local/lib/python3.10/dist-packages (from fastf1) (2.31.0)\n",
            "Requirement already satisfied: scipy<2.0.0,>=1.7.3 in /usr/local/lib/python3.10/dist-packages (from fastf1) (1.11.4)\n",
            "Collecting thefuzz (from fastf1)\n",
            "  Downloading thefuzz-0.22.1-py3-none-any.whl (8.2 kB)\n",
            "Collecting timple>=0.1.6 (from fastf1)\n",
            "  Downloading timple-0.1.8-py3-none-any.whl (17 kB)\n",
            "Collecting websockets>=10.3 (from fastf1)\n",
            "  Downloading websockets-12.0-cp310-cp310-manylinux_2_5_x86_64.manylinux1_x86_64.manylinux_2_17_x86_64.manylinux2014_x86_64.whl (130 kB)\n",
            "\u001b[2K     \u001b[90m━━━━━━━━━━━━━━━━━━━━━━━━━━━━━━━━━━━━━━━━\u001b[0m \u001b[32m130.2/130.2 kB\u001b[0m \u001b[31m4.0 MB/s\u001b[0m eta \u001b[36m0:00:00\u001b[0m\n",
            "\u001b[?25hRequirement already satisfied: contourpy>=1.0.1 in /usr/local/lib/python3.10/dist-packages (from matplotlib<4.0.0,>=3.5.1->fastf1) (1.2.1)\n",
            "Requirement already satisfied: cycler>=0.10 in /usr/local/lib/python3.10/dist-packages (from matplotlib<4.0.0,>=3.5.1->fastf1) (0.12.1)\n",
            "Requirement already satisfied: fonttools>=4.22.0 in /usr/local/lib/python3.10/dist-packages (from matplotlib<4.0.0,>=3.5.1->fastf1) (4.51.0)\n",
            "Requirement already satisfied: kiwisolver>=1.0.1 in /usr/local/lib/python3.10/dist-packages (from matplotlib<4.0.0,>=3.5.1->fastf1) (1.4.5)\n",
            "Requirement already satisfied: packaging>=20.0 in /usr/local/lib/python3.10/dist-packages (from matplotlib<4.0.0,>=3.5.1->fastf1) (24.0)\n",
            "Requirement already satisfied: pillow>=6.2.0 in /usr/local/lib/python3.10/dist-packages (from matplotlib<4.0.0,>=3.5.1->fastf1) (9.4.0)\n",
            "Requirement already satisfied: pyparsing>=2.3.1 in /usr/local/lib/python3.10/dist-packages (from matplotlib<4.0.0,>=3.5.1->fastf1) (3.1.2)\n",
            "Requirement already satisfied: pytz>=2020.1 in /usr/local/lib/python3.10/dist-packages (from pandas<3.0.0,>=1.4.1->fastf1) (2023.4)\n",
            "Requirement already satisfied: tzdata>=2022.1 in /usr/local/lib/python3.10/dist-packages (from pandas<3.0.0,>=1.4.1->fastf1) (2024.1)\n",
            "Requirement already satisfied: six>=1.5 in /usr/local/lib/python3.10/dist-packages (from python-dateutil->fastf1) (1.16.0)\n",
            "Requirement already satisfied: charset-normalizer<4,>=2 in /usr/local/lib/python3.10/dist-packages (from requests>=2.28.1->fastf1) (3.3.2)\n",
            "Requirement already satisfied: idna<4,>=2.5 in /usr/local/lib/python3.10/dist-packages (from requests>=2.28.1->fastf1) (3.7)\n",
            "Requirement already satisfied: urllib3<3,>=1.21.1 in /usr/local/lib/python3.10/dist-packages (from requests>=2.28.1->fastf1) (2.0.7)\n",
            "Requirement already satisfied: certifi>=2017.4.17 in /usr/local/lib/python3.10/dist-packages (from requests>=2.28.1->fastf1) (2024.2.2)\n",
            "Requirement already satisfied: attrs>=21.2 in /usr/local/lib/python3.10/dist-packages (from requests-cache>=1.0.0->fastf1) (23.2.0)\n",
            "Collecting cattrs>=22.2 (from requests-cache>=1.0.0->fastf1)\n",
            "  Downloading cattrs-23.2.3-py3-none-any.whl (57 kB)\n",
            "\u001b[2K     \u001b[90m━━━━━━━━━━━━━━━━━━━━━━━━━━━━━━━━━━━━━━━━\u001b[0m \u001b[32m57.5/57.5 kB\u001b[0m \u001b[31m2.4 MB/s\u001b[0m eta \u001b[36m0:00:00\u001b[0m\n",
            "\u001b[?25hRequirement already satisfied: platformdirs>=2.5 in /usr/local/lib/python3.10/dist-packages (from requests-cache>=1.0.0->fastf1) (4.2.1)\n",
            "Collecting url-normalize>=1.4 (from requests-cache>=1.0.0->fastf1)\n",
            "  Downloading url_normalize-1.4.3-py2.py3-none-any.whl (6.8 kB)\n",
            "Collecting rapidfuzz<4.0.0,>=3.0.0 (from thefuzz->fastf1)\n",
            "  Downloading rapidfuzz-3.9.1-cp310-cp310-manylinux_2_17_x86_64.manylinux2014_x86_64.whl (3.4 MB)\n",
            "\u001b[2K     \u001b[90m━━━━━━━━━━━━━━━━━━━━━━━━━━━━━━━━━━━━━━━━\u001b[0m \u001b[32m3.4/3.4 MB\u001b[0m \u001b[31m20.0 MB/s\u001b[0m eta \u001b[36m0:00:00\u001b[0m\n",
            "\u001b[?25hRequirement already satisfied: exceptiongroup>=1.1.1 in /usr/local/lib/python3.10/dist-packages (from cattrs>=22.2->requests-cache>=1.0.0->fastf1) (1.2.1)\n",
            "Requirement already satisfied: typing-extensions!=4.6.3,>=4.1.0 in /usr/local/lib/python3.10/dist-packages (from cattrs>=22.2->requests-cache>=1.0.0->fastf1) (4.11.0)\n",
            "Installing collected packages: websockets, url-normalize, rapidfuzz, cattrs, thefuzz, requests-cache, timple, fastf1\n",
            "Successfully installed cattrs-23.2.3 fastf1-3.3.6 rapidfuzz-3.9.1 requests-cache-1.2.0 thefuzz-0.22.1 timple-0.1.8 url-normalize-1.4.3 websockets-12.0\n"
          ]
        }
      ]
    },
    {
      "cell_type": "code",
      "source": [
        "import pandas as pd\n",
        "import numpy as np\n",
        "import matplotlib.pyplot as plt\n",
        "import seaborn as sns\n",
        "import fastf1 as ff1"
      ],
      "metadata": {
        "id": "4Aw_-RNPQqut"
      },
      "execution_count": null,
      "outputs": []
    },
    {
      "cell_type": "markdown",
      "source": [
        "**Read in data**"
      ],
      "metadata": {
        "id": "FbYrbcv6RTyI"
      }
    },
    {
      "cell_type": "code",
      "source": [
        "# prompt:\n",
        "\n",
        "import pandas as pd\n",
        "\n",
        "driver_standings = pd.read_csv('//content/forumla1-mini-sprint/data/driver_standings.csv')\n",
        "driver = pd.read_csv('/content/forumla1-mini-sprint/data/drivers.csv')\n",
        "results = pd.read_csv('/content/forumla1-mini-sprint/data/results.csv')\n",
        "constructors = pd.read_csv('/content/forumla1-mini-sprint/data/constructors.csv')\n",
        "races = pd.read_csv('/content/forumla1-mini-sprint/data/races.csv')\n"
      ],
      "metadata": {
        "colab": {
          "base_uri": "https://localhost:8080/"
        },
        "id": "L2LhuQkjT2Em",
        "outputId": "1fa9a909-3b3a-4406-aa86-f24b556c1ed3"
      },
      "execution_count": 9,
      "outputs": [
        {
          "output_type": "stream",
          "name": "stdout",
          "text": [
            "   driverStandingsId  raceId  driverId  points  position positionText  wins\n",
            "0                  1      18         1    10.0         1            1     1\n",
            "1                  2      18         2     8.0         2            2     0\n",
            "2                  3      18         3     6.0         3            3     0\n",
            "3                  4      18         4     5.0         4            4     0\n",
            "4                  5      18         5     4.0         5            5     0\n",
            "   driverId   driverRef number code   forename     surname         dob  \\\n",
            "0         1    hamilton     44  HAM      Lewis    Hamilton  1985-01-07   \n",
            "1         2    heidfeld     \\N  HEI       Nick    Heidfeld  1977-05-10   \n",
            "2         3     rosberg      6  ROS       Nico     Rosberg  1985-06-27   \n",
            "3         4      alonso     14  ALO   Fernando      Alonso  1981-07-29   \n",
            "4         5  kovalainen     \\N  KOV     Heikki  Kovalainen  1981-10-19   \n",
            "5         6    nakajima     \\N  NAK     Kazuki    Nakajima  1985-01-11   \n",
            "6         7    bourdais     \\N  BOU  Sébastien    Bourdais  1979-02-28   \n",
            "7         8   raikkonen      7  RAI       Kimi   Räikkönen  1979-10-17   \n",
            "8         9      kubica     88  KUB     Robert      Kubica  1984-12-07   \n",
            "9        10       glock     \\N  GLO       Timo       Glock  1982-03-18   \n",
            "\n",
            "  nationality                                                url  \n",
            "0     British        http://en.wikipedia.org/wiki/Lewis_Hamilton  \n",
            "1      German         http://en.wikipedia.org/wiki/Nick_Heidfeld  \n",
            "2      German          http://en.wikipedia.org/wiki/Nico_Rosberg  \n",
            "3     Spanish       http://en.wikipedia.org/wiki/Fernando_Alonso  \n",
            "4     Finnish     http://en.wikipedia.org/wiki/Heikki_Kovalainen  \n",
            "5    Japanese       http://en.wikipedia.org/wiki/Kazuki_Nakajima  \n",
            "6      French  http://en.wikipedia.org/wiki/S%C3%A9bastien_Bo...  \n",
            "7     Finnish  http://en.wikipedia.org/wiki/Kimi_R%C3%A4ikk%C...  \n",
            "8      Polish         http://en.wikipedia.org/wiki/Robert_Kubica  \n",
            "9      German            http://en.wikipedia.org/wiki/Timo_Glock  \n",
            "   resultId  raceId  driverId  constructorId number  grid position  \\\n",
            "0         1      18         1              1     22     1        1   \n",
            "1         2      18         2              2      3     5        2   \n",
            "2         3      18         3              3      7     7        3   \n",
            "3         4      18         4              4      5    11        4   \n",
            "4         5      18         5              1     23     3        5   \n",
            "5         6      18         6              3      8    13        6   \n",
            "6         7      18         7              5     14    17        7   \n",
            "7         8      18         8              6      1    15        8   \n",
            "8         9      18         9              2      4     2       \\N   \n",
            "9        10      18        10              7     12    18       \\N   \n",
            "\n",
            "  positionText  positionOrder  points  laps         time milliseconds  \\\n",
            "0            1              1    10.0    58  1:34:50.616      5690616   \n",
            "1            2              2     8.0    58       +5.478      5696094   \n",
            "2            3              3     6.0    58       +8.163      5698779   \n",
            "3            4              4     5.0    58      +17.181      5707797   \n",
            "4            5              5     4.0    58      +18.014      5708630   \n",
            "5            6              6     3.0    57           \\N           \\N   \n",
            "6            7              7     2.0    55           \\N           \\N   \n",
            "7            8              8     1.0    53           \\N           \\N   \n",
            "8            R              9     0.0    47           \\N           \\N   \n",
            "9            R             10     0.0    43           \\N           \\N   \n",
            "\n",
            "  fastestLap rank fastestLapTime fastestLapSpeed  statusId  \n",
            "0         39    2       1:27.452         218.300         1  \n",
            "1         41    3       1:27.739         217.586         1  \n",
            "2         41    5       1:28.090         216.719         1  \n",
            "3         58    7       1:28.603         215.464         1  \n",
            "4         43    1       1:27.418         218.385         1  \n",
            "5         50   14       1:29.639         212.974        11  \n",
            "6         22   12       1:29.534         213.224         5  \n",
            "7         20    4       1:27.903         217.180         5  \n",
            "8         15    9       1:28.753         215.100         4  \n",
            "9         23   13       1:29.558         213.166         3  \n",
            "   constructorId constructorRef        name nationality  \\\n",
            "0              1        mclaren     McLaren     British   \n",
            "1              2     bmw_sauber  BMW Sauber      German   \n",
            "2              3       williams    Williams     British   \n",
            "3              4        renault     Renault      French   \n",
            "4              5     toro_rosso  Toro Rosso     Italian   \n",
            "\n",
            "                                                 url  \n",
            "0               http://en.wikipedia.org/wiki/McLaren  \n",
            "1            http://en.wikipedia.org/wiki/BMW_Sauber  \n",
            "2  http://en.wikipedia.org/wiki/Williams_Grand_Pr...  \n",
            "3  http://en.wikipedia.org/wiki/Renault_in_Formul...  \n",
            "4   http://en.wikipedia.org/wiki/Scuderia_Toro_Rosso  \n"
          ]
        }
      ]
    },
    {
      "cell_type": "markdown",
      "source": [
        "Fing the top 10 drivers base upon the points overall in history.\n"
      ],
      "metadata": {
        "id": "OTqfn6xKahmw"
      }
    },
    {
      "cell_type": "code",
      "source": [
        "# Group the results by driver and calculate the sum of points\n",
        "driver_points = results.groupby('driverId')['points'].sum()"
      ],
      "metadata": {
        "id": "3zicQ2BzJAJU"
      },
      "execution_count": 12,
      "outputs": []
    }
  ]
}