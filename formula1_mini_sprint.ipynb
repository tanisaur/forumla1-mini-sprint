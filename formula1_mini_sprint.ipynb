{
  "nbformat": 4,
  "nbformat_minor": 0,
  "metadata": {
    "colab": {
      "provenance": [],
      "include_colab_link": true
    },
    "kernelspec": {
      "name": "python3",
      "display_name": "Python 3"
    },
    "language_info": {
      "name": "python"
    }
  },
  "cells": [
    {
      "cell_type": "markdown",
      "metadata": {
        "id": "view-in-github",
        "colab_type": "text"
      },
      "source": [
        "<a href=\"https://colab.research.google.com/github/tanisaur/forumla1-mini-sprint/blob/main/formula1_mini_sprint.ipynb\" target=\"_parent\"><img src=\"https://colab.research.google.com/assets/colab-badge.svg\" alt=\"Open In Colab\"/></a>"
      ]
    },
    {
      "cell_type": "code",
      "execution_count": 3,
      "metadata": {
        "id": "ixaXvQAwGHZv",
        "colab": {
          "base_uri": "https://localhost:8080/"
        },
        "outputId": "c15f58c4-6344-4a4f-f4f5-a8e18095e349"
      },
      "outputs": [
        {
          "output_type": "stream",
          "name": "stdout",
          "text": [
            "fatal: destination path 'forumla1-mini-sprint' already exists and is not an empty directory.\n"
          ]
        }
      ],
      "source": [
        "!git clone https://github.com/tanisaur/forumla1-mini-sprint.git\n"
      ]
    },
    {
      "cell_type": "markdown",
      "source": [
        "Team 19:\n",
        "\n",
        "We are creating a Hypothesis from Formula 1 Data Sets recruiting for a specic constructor by analyzing and focusing on Data from the following files:\n",
        "\n",
        "*driver\n",
        "*results\n",
        "*lap times\n",
        "\n",
        "We are going to do a basic analysis of the top ten drivers.\n",
        "\n",
        "How many wins they have from the previous season for 2023?\n",
        "The average race lap times for the 2023 per driver?\n",
        "\n"
      ],
      "metadata": {
        "id": "asu-ybJPnuS-"
      }
    },
    {
      "cell_type": "markdown",
      "source": [
        "# **Import libraries**"
      ],
      "metadata": {
        "id": "SIliSQ90QtO9"
      }
    },
    {
      "cell_type": "code",
      "source": [
        "pip install fastf1"
      ],
      "metadata": {
        "id": "9sPF512zRHgu",
        "outputId": "6a83d881-0ed0-4126-bb0f-9c503d29057d",
        "colab": {
          "base_uri": "https://localhost:8080/"
        }
      },
      "execution_count": 4,
      "outputs": [
        {
          "output_type": "stream",
          "name": "stdout",
          "text": [
            "Collecting fastf1\n",
            "  Downloading fastf1-3.3.6-py3-none-any.whl (130 kB)\n",
            "\u001b[2K     \u001b[90m━━━━━━━━━━━━━━━━━━━━━━━━━━━━━━━━━━━━━━━━\u001b[0m \u001b[32m130.0/130.0 kB\u001b[0m \u001b[31m2.4 MB/s\u001b[0m eta \u001b[36m0:00:00\u001b[0m\n",
            "\u001b[?25hRequirement already satisfied: matplotlib<4.0.0,>=3.5.1 in /usr/local/lib/python3.10/dist-packages (from fastf1) (3.7.1)\n",
            "Requirement already satisfied: numpy<2.0.0,>=1.21.5 in /usr/local/lib/python3.10/dist-packages (from fastf1) (1.25.2)\n",
            "Requirement already satisfied: pandas<3.0.0,>=1.4.1 in /usr/local/lib/python3.10/dist-packages (from fastf1) (2.0.3)\n",
            "Requirement already satisfied: python-dateutil in /usr/local/lib/python3.10/dist-packages (from fastf1) (2.8.2)\n",
            "Collecting requests-cache>=1.0.0 (from fastf1)\n",
            "  Downloading requests_cache-1.2.0-py3-none-any.whl (61 kB)\n",
            "\u001b[2K     \u001b[90m━━━━━━━━━━━━━━━━━━━━━━━━━━━━━━━━━━━━━━━━\u001b[0m \u001b[32m61.4/61.4 kB\u001b[0m \u001b[31m4.8 MB/s\u001b[0m eta \u001b[36m0:00:00\u001b[0m\n",
            "\u001b[?25hRequirement already satisfied: requests>=2.28.1 in /usr/local/lib/python3.10/dist-packages (from fastf1) (2.31.0)\n",
            "Requirement already satisfied: scipy<2.0.0,>=1.7.3 in /usr/local/lib/python3.10/dist-packages (from fastf1) (1.11.4)\n",
            "Collecting thefuzz (from fastf1)\n",
            "  Downloading thefuzz-0.22.1-py3-none-any.whl (8.2 kB)\n",
            "Collecting timple>=0.1.6 (from fastf1)\n",
            "  Downloading timple-0.1.8-py3-none-any.whl (17 kB)\n",
            "Collecting websockets>=10.3 (from fastf1)\n",
            "  Downloading websockets-12.0-cp310-cp310-manylinux_2_5_x86_64.manylinux1_x86_64.manylinux_2_17_x86_64.manylinux2014_x86_64.whl (130 kB)\n",
            "\u001b[2K     \u001b[90m━━━━━━━━━━━━━━━━━━━━━━━━━━━━━━━━━━━━━━━━\u001b[0m \u001b[32m130.2/130.2 kB\u001b[0m \u001b[31m4.5 MB/s\u001b[0m eta \u001b[36m0:00:00\u001b[0m\n",
            "\u001b[?25hRequirement already satisfied: contourpy>=1.0.1 in /usr/local/lib/python3.10/dist-packages (from matplotlib<4.0.0,>=3.5.1->fastf1) (1.2.1)\n",
            "Requirement already satisfied: cycler>=0.10 in /usr/local/lib/python3.10/dist-packages (from matplotlib<4.0.0,>=3.5.1->fastf1) (0.12.1)\n",
            "Requirement already satisfied: fonttools>=4.22.0 in /usr/local/lib/python3.10/dist-packages (from matplotlib<4.0.0,>=3.5.1->fastf1) (4.51.0)\n",
            "Requirement already satisfied: kiwisolver>=1.0.1 in /usr/local/lib/python3.10/dist-packages (from matplotlib<4.0.0,>=3.5.1->fastf1) (1.4.5)\n",
            "Requirement already satisfied: packaging>=20.0 in /usr/local/lib/python3.10/dist-packages (from matplotlib<4.0.0,>=3.5.1->fastf1) (24.0)\n",
            "Requirement already satisfied: pillow>=6.2.0 in /usr/local/lib/python3.10/dist-packages (from matplotlib<4.0.0,>=3.5.1->fastf1) (9.4.0)\n",
            "Requirement already satisfied: pyparsing>=2.3.1 in /usr/local/lib/python3.10/dist-packages (from matplotlib<4.0.0,>=3.5.1->fastf1) (3.1.2)\n",
            "Requirement already satisfied: pytz>=2020.1 in /usr/local/lib/python3.10/dist-packages (from pandas<3.0.0,>=1.4.1->fastf1) (2023.4)\n",
            "Requirement already satisfied: tzdata>=2022.1 in /usr/local/lib/python3.10/dist-packages (from pandas<3.0.0,>=1.4.1->fastf1) (2024.1)\n",
            "Requirement already satisfied: six>=1.5 in /usr/local/lib/python3.10/dist-packages (from python-dateutil->fastf1) (1.16.0)\n",
            "Requirement already satisfied: charset-normalizer<4,>=2 in /usr/local/lib/python3.10/dist-packages (from requests>=2.28.1->fastf1) (3.3.2)\n",
            "Requirement already satisfied: idna<4,>=2.5 in /usr/local/lib/python3.10/dist-packages (from requests>=2.28.1->fastf1) (3.7)\n",
            "Requirement already satisfied: urllib3<3,>=1.21.1 in /usr/local/lib/python3.10/dist-packages (from requests>=2.28.1->fastf1) (2.0.7)\n",
            "Requirement already satisfied: certifi>=2017.4.17 in /usr/local/lib/python3.10/dist-packages (from requests>=2.28.1->fastf1) (2024.2.2)\n",
            "Requirement already satisfied: attrs>=21.2 in /usr/local/lib/python3.10/dist-packages (from requests-cache>=1.0.0->fastf1) (23.2.0)\n",
            "Collecting cattrs>=22.2 (from requests-cache>=1.0.0->fastf1)\n",
            "  Downloading cattrs-23.2.3-py3-none-any.whl (57 kB)\n",
            "\u001b[2K     \u001b[90m━━━━━━━━━━━━━━━━━━━━━━━━━━━━━━━━━━━━━━━━\u001b[0m \u001b[32m57.5/57.5 kB\u001b[0m \u001b[31m7.6 MB/s\u001b[0m eta \u001b[36m0:00:00\u001b[0m\n",
            "\u001b[?25hRequirement already satisfied: platformdirs>=2.5 in /usr/local/lib/python3.10/dist-packages (from requests-cache>=1.0.0->fastf1) (4.2.1)\n",
            "Collecting url-normalize>=1.4 (from requests-cache>=1.0.0->fastf1)\n",
            "  Downloading url_normalize-1.4.3-py2.py3-none-any.whl (6.8 kB)\n",
            "Collecting rapidfuzz<4.0.0,>=3.0.0 (from thefuzz->fastf1)\n",
            "  Downloading rapidfuzz-3.9.1-cp310-cp310-manylinux_2_17_x86_64.manylinux2014_x86_64.whl (3.4 MB)\n",
            "\u001b[2K     \u001b[90m━━━━━━━━━━━━━━━━━━━━━━━━━━━━━━━━━━━━━━━━\u001b[0m \u001b[32m3.4/3.4 MB\u001b[0m \u001b[31m8.9 MB/s\u001b[0m eta \u001b[36m0:00:00\u001b[0m\n",
            "\u001b[?25hRequirement already satisfied: exceptiongroup>=1.1.1 in /usr/local/lib/python3.10/dist-packages (from cattrs>=22.2->requests-cache>=1.0.0->fastf1) (1.2.1)\n",
            "Requirement already satisfied: typing-extensions!=4.6.3,>=4.1.0 in /usr/local/lib/python3.10/dist-packages (from cattrs>=22.2->requests-cache>=1.0.0->fastf1) (4.11.0)\n",
            "Installing collected packages: websockets, url-normalize, rapidfuzz, cattrs, thefuzz, requests-cache, timple, fastf1\n",
            "Successfully installed cattrs-23.2.3 fastf1-3.3.6 rapidfuzz-3.9.1 requests-cache-1.2.0 thefuzz-0.22.1 timple-0.1.8 url-normalize-1.4.3 websockets-12.0\n"
          ]
        }
      ]
    },
    {
      "cell_type": "code",
      "source": [
        "import pandas as pd\n",
        "import numpy as np\n",
        "import matplotlib.pyplot as plt\n",
        "import seaborn as sns\n",
        "import fastf1 as ff1\n",
        "%matplotlib inline"
      ],
      "metadata": {
        "id": "4Aw_-RNPQqut"
      },
      "execution_count": 17,
      "outputs": []
    },
    {
      "cell_type": "markdown",
      "source": [
        "**Read in data**"
      ],
      "metadata": {
        "id": "FbYrbcv6RTyI"
      }
    },
    {
      "cell_type": "code",
      "source": [
        "# prompt:\n",
        "\n",
        "import pandas as pd\n",
        "\n",
        "driver_standings = pd.read_csv('//content/forumla1-mini-sprint/data/driver_standings.csv')\n",
        "drivers = pd.read_csv('/content/forumla1-mini-sprint/data/drivers.csv')\n",
        "results = pd.read_csv('/content/forumla1-mini-sprint/data/results.csv')\n",
        "constructors = pd.read_csv('/content/forumla1-mini-sprint/data/constructors.csv')\n",
        "races = pd.read_csv('/content/forumla1-mini-sprint/data/races.csv')\n"
      ],
      "metadata": {
        "id": "L2LhuQkjT2Em"
      },
      "execution_count": 21,
      "outputs": []
    },
    {
      "cell_type": "markdown",
      "source": [
        "Fing the top 10 drivers base upon the points overall in history.\n"
      ],
      "metadata": {
        "id": "OTqfn6xKahmw"
      }
    },
    {
      "cell_type": "code",
      "source": [
        "# Group the results by driver and calculate the sum of points\n",
        "driver_points = results.groupby('driverId')['points'].sum()\n",
        "# Sort the drivers by points in descending order\n",
        "sorted_drivers = driver_points.sort_values(ascending=False)\n",
        "# Print the top 5 drivers and their points\n",
        "print(sorted_drivers.head(5))"
      ],
      "metadata": {
        "id": "3zicQ2BzJAJU",
        "outputId": "69b35474-1b13-4c61-eb68-f602c9c69cf8",
        "colab": {
          "base_uri": "https://localhost:8080/"
        }
      },
      "execution_count": 19,
      "outputs": [
        {
          "output_type": "stream",
          "name": "stdout",
          "text": [
            "driverId\n",
            "1      4540.5\n",
            "20     3098.0\n",
            "830    2275.5\n",
            "4      2203.0\n",
            "8      1873.0\n",
            "Name: points, dtype: float64\n"
          ]
        }
      ]
    },
    {
      "cell_type": "code",
      "source": [
        "top_drivers = pd.merge(driver_standings, drivers, on='driverId')\n",
        "\n",
        "top_drivers = top_drivers.groupby('driverId')['points'].sum()\n",
        "top_drivers = top_drivers.sort_values(ascending=False).head(10)"
      ],
      "metadata": {
        "id": "QY3aYJWAlb-O"
      },
      "execution_count": 22,
      "outputs": []
    },
    {
      "cell_type": "code",
      "source": [
        "plt.figure(figsize=(12, 6))\n",
        "top_drivers.plot(kind='bar', color='purple')\n",
        "plt.xlabel('Driver Id')\n",
        "plt.ylabel('Total Points')\n",
        "plt.title('Best 10 Drivers in F1 History')\n",
        "plt.xticks(rotation=45)\n",
        "plt.show()"
      ],
      "metadata": {
        "id": "6Q0l0EcYl8lg",
        "outputId": "834243d1-608d-40cd-b08f-b2b4da2a3fee",
        "colab": {
          "base_uri": "https://localhost:8080/",
          "height": 579
        }
      },
      "execution_count": 23,
      "outputs": [
        {
          "output_type": "display_data",
          "data": {
            "text/plain": [
              "<Figure size 1200x600 with 1 Axes>"
            ],
            "image/png": "[encoded data removed]"
          },
          "metadata": {}
        }
      ]
    }
  ]
}